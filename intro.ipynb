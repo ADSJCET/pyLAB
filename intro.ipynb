{
 "cells": [
  {
   "cell_type": "code",
   "execution_count": 5,
   "id": "a572254c",
   "metadata": {},
   "outputs": [
    {
     "name": "stdout",
     "output_type": "stream",
     "text": [
      "035561\n"
     ]
    }
   ],
   "source": [
    "from random import randint\n",
    "\n",
    "def OTP(x):\n",
    "    str1 = \"\"\n",
    "    for i in range(x):\n",
    "        str1 = str1 + str(randint(0,9))\n",
    "        \n",
    "    return str1\n",
    "        \n",
    "print(OTP(6))"
   ]
  },
  {
   "cell_type": "code",
   "execution_count": 94,
   "id": "0655490b",
   "metadata": {},
   "outputs": [
    {
     "name": "stdout",
     "output_type": "stream",
     "text": [
      "0\n",
      "8\n"
     ]
    }
   ],
   "source": [
    "# walrus operator\n",
    "\n",
    "# sound more like x += randint(0,9)\n",
    "\n",
    "\n",
    "x = 0\n",
    "while((x := x + randint(0,9)) < 10 ):\n",
    "    print(x)"
   ]
  },
  {
   "cell_type": "code",
   "execution_count": 12,
   "id": "99e1e751",
   "metadata": {},
   "outputs": [
    {
     "name": "stdout",
     "output_type": "stream",
     "text": [
      "15\n"
     ]
    }
   ],
   "source": [
    "# lambda funtion which returns a + 10\n",
    "x = lambda a : a + 10\n",
    "print(x(5)) "
   ]
  },
  {
   "cell_type": "code",
   "execution_count": 9,
   "id": "9bdb1b3b",
   "metadata": {},
   "outputs": [
    {
     "name": "stdout",
     "output_type": "stream",
     "text": [
      "<class 'int'>\n",
      "140721804932168\n"
     ]
    }
   ],
   "source": [
    "a = 10\n",
    "# return object type \n",
    "print(type(a))\n",
    "\n",
    "# return object id (means memory location)\n",
    "print(id(a))\n"
   ]
  },
  {
   "cell_type": "code",
   "execution_count": 13,
   "id": "84d4039f",
   "metadata": {},
   "outputs": [
    {
     "name": "stdout",
     "output_type": "stream",
     "text": [
      "(2+1j)\n",
      "<class 'complex'>\n",
      "1626844454992\n",
      "2.0\n",
      "1.0\n"
     ]
    }
   ],
   "source": [
    "complex = 1j + 2\n",
    "\n",
    "\n",
    "print(complex)\n",
    "print(type(complex))\n",
    "print(id(complex))\n",
    "print(complex.real)\n",
    "print(complex.imag)"
   ]
  },
  {
   "cell_type": "code",
   "execution_count": 19,
   "id": "8352ab91",
   "metadata": {},
   "outputs": [
    {
     "name": "stdout",
     "output_type": "stream",
     "text": [
      "Hello\n",
      "H e\n",
      "o l\n"
     ]
    }
   ],
   "source": [
    "a = 'Hello'\n",
    "\n",
    "print(a)\n",
    "\n",
    "print(a[0], a[1])\n",
    "\n",
    "print(a[-1], a[-2])\n",
    "\n"
   ]
  },
  {
   "cell_type": "code",
   "execution_count": 23,
   "id": "3652f056",
   "metadata": {},
   "outputs": [
    {
     "name": "stdout",
     "output_type": "stream",
     "text": [
      "He\n",
      "[1, 2]\n",
      "(1, 2)\n"
     ]
    }
   ],
   "source": [
    "# slicing operator\n",
    "a = 'Hello'\n",
    "print(a[0:2])\n",
    "\n",
    "b = [1,2,3,4,5]\n",
    "print(b[0:2])\n",
    "\n",
    "c = (1,2,3,4,5)\n",
    "print(c[0:2])\n",
    "\n",
    "# return 0 -> 2 except 2"
   ]
  },
  {
   "cell_type": "code",
   "execution_count": 38,
   "id": "25baa6c4",
   "metadata": {},
   "outputs": [
    {
     "name": "stdout",
     "output_type": "stream",
     "text": [
      "anth\n",
      "htnakinajar\n"
     ]
    }
   ],
   "source": [
    "a=\"rajanikanth\"\n",
    "\n",
    "print(a[-4:])\n",
    "\n",
    "# reverse this string\n",
    "print(a[::-1])\n"
   ]
  },
  {
   "cell_type": "code",
   "execution_count": 54,
   "id": "abd203a7",
   "metadata": {},
   "outputs": [
    {
     "name": "stdout",
     "output_type": "stream",
     "text": [
      "Hello\n"
     ]
    }
   ],
   "source": [
    "A = \"hello\"\n",
    "\n",
    "A = A[0].upper() + A[1:]\n",
    "\n",
    "print(A)"
   ]
  },
  {
   "cell_type": "code",
   "execution_count": 56,
   "id": "6fa0a48f",
   "metadata": {},
   "outputs": [
    {
     "name": "stdout",
     "output_type": "stream",
     "text": [
      "hellO\n"
     ]
    }
   ],
   "source": [
    "A = \"hello\"\n",
    "\n",
    "A =  A[:4] + A[-1].upper()\n",
    "print(A)"
   ]
  },
  {
   "cell_type": "code",
   "execution_count": 57,
   "id": "4d601bb2",
   "metadata": {},
   "outputs": [
    {
     "ename": "TypeError",
     "evalue": "'tuple' object does not support item assignment",
     "output_type": "error",
     "traceback": [
      "\u001b[1;31m---------------------------------------------------------------------------\u001b[0m",
      "\u001b[1;31mTypeError\u001b[0m                                 Traceback (most recent call last)",
      "Cell \u001b[1;32mIn[57], line 5\u001b[0m\n\u001b[0;32m      1\u001b[0m \u001b[39m# Examples of immutable data types are int, str, bool, float, tuple, etc\u001b[39;00m\n\u001b[0;32m      3\u001b[0m a \u001b[39m=\u001b[39m (\u001b[39m1\u001b[39m,\u001b[39m2\u001b[39m,\u001b[39m3\u001b[39m,\u001b[39m4\u001b[39m)\n\u001b[1;32m----> 5\u001b[0m a[\u001b[39m1\u001b[39;49m] \u001b[39m=\u001b[39m \u001b[39m10\u001b[39m\n\u001b[0;32m      7\u001b[0m \u001b[39mprint\u001b[39m(a)\n",
      "\u001b[1;31mTypeError\u001b[0m: 'tuple' object does not support item assignment"
     ]
    }
   ],
   "source": [
    "# Examples of immutable data types are int, str, bool, float, tuple, etc\n",
    "# fandamental data types are immutable\n",
    "\n",
    "a = (1,2,3,4)\n",
    "\n",
    "a[1] = 10\n",
    "\n",
    "print(a)\n",
    "# 'tuple' object does not support item assignment"
   ]
  },
  {
   "cell_type": "code",
   "execution_count": 61,
   "id": "69b3d84d",
   "metadata": {},
   "outputs": [
    {
     "name": "stdout",
     "output_type": "stream",
     "text": [
      "140721804932168\n",
      "140721804932200\n",
      "11\n"
     ]
    }
   ],
   "source": [
    "a = 10\n",
    "print(id(a))\n",
    "\n",
    "a = a + 1\n",
    "print(id(a))\n",
    "# here new object is created\n",
    "# and old object is deleted using garbage collector \n",
    "# also the id changes\n",
    "print(a)"
   ]
  },
  {
   "cell_type": "code",
   "execution_count": 65,
   "id": "de5c4ebb",
   "metadata": {},
   "outputs": [],
   "source": [
    "while(x := randint(0,9)) == 5:\n",
    "    print(x)"
   ]
  },
  {
   "cell_type": "code",
   "execution_count": 67,
   "id": "54dcfbd3",
   "metadata": {},
   "outputs": [
    {
     "name": "stdout",
     "output_type": "stream",
     "text": [
      "140721804932168\n",
      "140721804932168\n"
     ]
    }
   ],
   "source": [
    "x = 10\n",
    "y = x\n",
    "\n",
    "print(id(x))\n",
    "print(id(y))\n",
    "\n",
    "# same id because both are pointing to same object\n"
   ]
  },
  {
   "cell_type": "code",
   "execution_count": 69,
   "id": "fd601807",
   "metadata": {},
   "outputs": [
    {
     "name": "stdout",
     "output_type": "stream",
     "text": [
      "140721804932168\n",
      "140721804932168\n"
     ]
    }
   ],
   "source": [
    "x = 10\n",
    "y = 10\n",
    "\n",
    "print(id(x))\n",
    "print(id(y))\n",
    "\n",
    "# same id because both are pointing to same object\n",
    "# memory reusability"
   ]
  },
  {
   "cell_type": "code",
   "execution_count": 110,
   "id": "ab448da5",
   "metadata": {},
   "outputs": [
    {
     "name": "stdout",
     "output_type": "stream",
     "text": [
      "[10, 'hello', 'bye', 10, 20, 30, 10]\n",
      "<class 'list'>\n",
      "140721804932168\n",
      "140721804932168\n",
      "[10, 'hello', 'bye', 10, 20, 30, 10, 'Ends']\n",
      "[10, 'hello', 'inserted', 'bye', 10, 20, 30, 10, 'Ends']\n",
      "['hello', 'inserted', 'bye', 20, 30, 10, 'Ends']\n"
     ]
    }
   ],
   "source": [
    "list = [10, \"hello\", \"bye\", 10, 20, 30, 10]\n",
    "\n",
    "# order preserved (means index is preserved and slicing is possible)\n",
    "# duplicate values allowed\n",
    "# heterogeneous data allowed\n",
    "# mutable\n",
    "# growable in nature\n",
    "\n",
    "print(list)\n",
    "print(type(list))\n",
    "\n",
    "print(id(list[-1]))\n",
    "print(id(list[0]))\n",
    "\n",
    "# same id because both are pointing to same object value\n",
    "# but using different index\n",
    "\n",
    "\n",
    "list.append(\"Ends\")\n",
    "print(list)\n",
    "\n",
    "list.insert(2, \"inserted\")\n",
    "print(list)\n",
    "\n",
    "list.remove(10)\n",
    "list.remove(10)\n",
    "print(list)\n",
    "\n"
   ]
  },
  {
   "cell_type": "code",
   "execution_count": 119,
   "id": "0d346429",
   "metadata": {},
   "outputs": [
    {
     "name": "stdout",
     "output_type": "stream",
     "text": [
      "('hi', 'hello', 'bye', 10, 20, 30, 10)\n",
      "<class 'tuple'>\n",
      "('hi', 'hello', 'bye', 10, 20, 30, 10, 'Ends')\n",
      "<class 'int'>\n",
      "<class 'tuple'>\n",
      "hi\n"
     ]
    },
    {
     "ename": "TypeError",
     "evalue": "'tuple' object is not callable",
     "output_type": "error",
     "traceback": [
      "\u001b[1;31m---------------------------------------------------------------------------\u001b[0m",
      "\u001b[1;31mTypeError\u001b[0m                                 Traceback (most recent call last)",
      "Cell \u001b[1;32mIn[119], line 25\u001b[0m\n\u001b[0;32m     21\u001b[0m \u001b[39mprint\u001b[39m(\u001b[39mtype\u001b[39m(newTuple))\n\u001b[0;32m     24\u001b[0m \u001b[39mprint\u001b[39m(\u001b[39mtuple\u001b[39m[\u001b[39m0\u001b[39m])\n\u001b[1;32m---> 25\u001b[0m \u001b[39mprint\u001b[39m(\u001b[39mtuple\u001b[39;49m(\u001b[39m0\u001b[39;49m)) \u001b[39m# dont call tuple like this\u001b[39;00m\n",
      "\u001b[1;31mTypeError\u001b[0m: 'tuple' object is not callable"
     ]
    }
   ],
   "source": [
    "tuple = (\"hi\", \"hello\", \"bye\", 10, 20, 30, 10)\n",
    "\n",
    "# order preserved\n",
    "# duplicate values allowed\n",
    "# heterogeneous data allowed\n",
    "# immutable\n",
    "\n",
    "print(tuple)\n",
    "print(type(tuple))\n",
    "\n",
    "# concat a value to tuple\n",
    "# because tuple is immutable & we can't append a value to tuple directly\n",
    "\n",
    "tuple = tuple + (\"Ends\",)\n",
    "print(tuple)\n",
    "\n",
    "\n",
    "print(tuple[0])\n",
    "print(tuple(0)) # dont call tuple like this\n"
   ]
  },
  {
   "cell_type": "code",
   "execution_count": 120,
   "id": "41ac566d",
   "metadata": {},
   "outputs": [
    {
     "name": "stdout",
     "output_type": "stream",
     "text": [
      "<class 'int'>\n",
      "<class 'tuple'>\n"
     ]
    }
   ],
   "source": [
    "\n",
    "newTuple = (20)\n",
    "print(type(newTuple))\n",
    "\n",
    "newTuple = (20,) # comma is must\n",
    "print(type(newTuple))"
   ]
  },
  {
   "cell_type": "code",
   "execution_count": 111,
   "metadata": {},
   "outputs": [
    {
     "name": "stdout",
     "output_type": "stream",
     "text": [
      "[20]\n"
     ]
    }
   ],
   "source": [
    "list = [10, 10, 10, 10, 20]\n",
    "# to remove all 10 from list\n",
    "while (list.count(10) > 0):\n",
    "    list.remove(10)\n",
    "\n",
    "print(list)"
   ]
  },
  {
   "cell_type": "code",
   "execution_count": 112,
   "id": "29d80d9d",
   "metadata": {},
   "outputs": [
    {
     "name": "stdout",
     "output_type": "stream",
     "text": [
      "[30, 10, 10, 10, 20]\n"
     ]
    }
   ],
   "source": [
    "list = [10, 10, 10, 10, 20]\n",
    "list2 = list\n",
    "\n",
    "list[0] = 30\n",
    "# both list and list2 will be changed\n",
    "print(list2)\n"
   ]
  },
  {
   "cell_type": "code",
   "execution_count": 124,
   "id": "1160027c",
   "metadata": {},
   "outputs": [
    {
     "name": "stdout",
     "output_type": "stream",
     "text": [
      "{10, 20}\n",
      "<class 'set'>\n",
      "{10, 20, 30}\n",
      "{20, 30}\n"
     ]
    },
    {
     "ename": "TypeError",
     "evalue": "'set' object is not subscriptable",
     "output_type": "error",
     "traceback": [
      "\u001b[1;31m---------------------------------------------------------------------------\u001b[0m",
      "\u001b[1;31mTypeError\u001b[0m                                 Traceback (most recent call last)",
      "Cell \u001b[1;32mIn[124], line 19\u001b[0m\n\u001b[0;32m     16\u001b[0m \u001b[39mset\u001b[39m\u001b[39m.\u001b[39mremove(\u001b[39m10\u001b[39m)\n\u001b[0;32m     17\u001b[0m \u001b[39mprint\u001b[39m(\u001b[39mset\u001b[39m)\n\u001b[1;32m---> 19\u001b[0m \u001b[39mprint\u001b[39m(\u001b[39mset\u001b[39;49m[\u001b[39m0\u001b[39;49m])\n",
      "\u001b[1;31mTypeError\u001b[0m: 'set' object is not subscriptable"
     ]
    }
   ],
   "source": [
    "# set\n",
    "\n",
    "# unordered\n",
    "# duplicate values not allowed\n",
    "# heterogeneous data allowed\n",
    "# mutable\n",
    "# growable in nature\n",
    "\n",
    "set = {10, 10, 10, 10, 20}\n",
    "print(set)\n",
    "print(type(set))\n",
    "\n",
    "set.add(30)\n",
    "print(set)\n",
    "\n",
    "set.remove(10)\n",
    "print(set)\n",
    "\n",
    "print(set[0]) # indexing not allowed\n",
    "\n",
    "\n"
   ]
  },
  {
   "cell_type": "code",
   "execution_count": 142,
   "id": "a418b3a9",
   "metadata": {},
   "outputs": [
    {
     "name": "stdout",
     "output_type": "stream",
     "text": [
      "<class 'dict'>\n",
      "hello\n",
      "hi\n"
     ]
    }
   ],
   "source": [
    "dist = {\n",
    "    1: \"hi\",\n",
    "    \"a\": \"hello\"\n",
    "}\n",
    "\n",
    "# key value pair\n",
    "# key should be immutable\n",
    "# value can be mutable\n",
    "# key should be unique\n",
    "# lookup is fast\n",
    "# unordered\n",
    "# duplicate values not allowed\n",
    "\n",
    "print(type(dist))\n",
    "print(dist[\"a\"])\n",
    "print(dist[1])"
   ]
  },
  {
   "cell_type": "code",
   "execution_count": 155,
   "id": "2cc9d1a9",
   "metadata": {},
   "outputs": [
    {
     "name": "stdout",
     "output_type": "stream",
     "text": [
      "1 hi\n",
      "a hello\n",
      "1 hi\n",
      "a hello\n"
     ]
    },
    {
     "data": {
      "text/plain": [
       "[None, None]"
      ]
     },
     "execution_count": 155,
     "metadata": {},
     "output_type": "execute_result"
    }
   ],
   "source": [
    "# write one line code to print all keys and values of dictionary\n",
    "\n",
    "for key, value in dist.items(): print(key, value)\n",
    "\n",
    "[print(key, value) for key, value in dist.items()]\n"
   ]
  }
 ],
 "metadata": {
  "kernelspec": {
   "display_name": "Python 3 (ipykernel)",
   "language": "python",
   "name": "python3"
  },
  "language_info": {
   "codemirror_mode": {
    "name": "ipython",
    "version": 3
   },
   "file_extension": ".py",
   "mimetype": "text/x-python",
   "name": "python",
   "nbconvert_exporter": "python",
   "pygments_lexer": "ipython3",
   "version": "3.10.10"
  },
  "vscode": {
   "interpreter": {
    "hash": "cbca0de85423165c71c7aee5c5191bdb5ecaef971c1bc0bc295fa0ca9bf9bb8c"
   }
  }
 },
 "nbformat": 4,
 "nbformat_minor": 5
}
