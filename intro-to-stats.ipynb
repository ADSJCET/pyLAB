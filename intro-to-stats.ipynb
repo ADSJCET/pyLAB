{
 "cells": [
  {
   "cell_type": "code",
   "execution_count": 2,
   "metadata": {},
   "outputs": [
    {
     "name": "stdout",
     "output_type": "stream",
     "text": [
      "Collecting statistics"
     ]
    },
    {
     "name": "stderr",
     "output_type": "stream",
     "text": [
      "  DEPRECATION: statistics is being installed using the legacy 'setup.py install' method, because it does not have a 'pyproject.toml' and the 'wheel' package is not installed. pip 23.1 will enforce this behaviour change. A possible replacement is to enable the '--use-pep517' option. Discussion can be found at https://github.com/pypa/pip/issues/8559\n"
     ]
    },
    {
     "name": "stdout",
     "output_type": "stream",
     "text": [
      "\n",
      "  Downloading statistics-1.0.3.5.tar.gz (8.3 kB)\n",
      "  Preparing metadata (setup.py): started\n",
      "  Preparing metadata (setup.py): finished with status 'done'\n",
      "Collecting docutils>=0.3\n",
      "  Downloading docutils-0.19-py3-none-any.whl (570 kB)\n",
      "     ---------------------------------------- 0.0/570.5 kB ? eta -:--:--\n",
      "     ---------------------------------------- 0.0/570.5 kB ? eta -:--:--\n",
      "     - ----------------------------------- 30.7/570.5 kB 640.0 kB/s eta 0:00:01\n",
      "     --- --------------------------------- 61.4/570.5 kB 812.7 kB/s eta 0:00:01\n",
      "     ---------- --------------------------- 163.8/570.5 kB 1.4 MB/s eta 0:00:01\n",
      "     ----------------- -------------------- 256.0/570.5 kB 1.6 MB/s eta 0:00:01\n",
      "     --------------------- ---------------- 327.7/570.5 kB 1.7 MB/s eta 0:00:01\n",
      "     -------------------------------- ----- 491.5/570.5 kB 1.9 MB/s eta 0:00:01\n",
      "     -------------------------------------- 570.5/570.5 kB 2.1 MB/s eta 0:00:00\n",
      "Installing collected packages: docutils, statistics\n",
      "  Running setup.py install for statistics: started\n",
      "  Running setup.py install for statistics: finished with status 'done'\n",
      "Successfully installed docutils-0.19 statistics-1.0.3.5\n"
     ]
    }
   ],
   "source": [
    "!pip install statistics\n"
   ]
  },
  {
   "cell_type": "code",
   "execution_count": 12,
   "metadata": {},
   "outputs": [
    {
     "name": "stdout",
     "output_type": "stream",
     "text": [
      "Mean:  5.5\n",
      "Median:  5.5\n",
      "Mean:  6\n",
      "Median:  6\n",
      "Mean: -5.5\n",
      "Median: -5.5\n"
     ]
    }
   ],
   "source": [
    "from statistics import mean, median, mode, stdev, variance\n",
    "\n",
    "data = (1, 2, 3, 4, 5, 6, 7, 8, 9, 10)\n",
    "data2 = (1, 2, 3, 4, 5, 6, 7, 8, 9, 10, 11)\n",
    "data3 = (-1, -2, -3, -4, -5, -6, -7, -8, -9, -10)\n",
    "\n",
    "print(\"Mean: \", mean(data))\n",
    "print(\"Median: \", median(data))\n",
    "\n",
    "print(\"Mean: \", mean(data2))\n",
    "print(\"Median: \", median(data2))\n",
    "\n",
    "print(\"Mean: %s\" % (mean(data3))) # %s is a placeholder for a string\n",
    "print(\"Median: %s\" % (median(data3)))\n",
    "\n",
    "\n",
    "\n"
   ]
  },
  {
   "cell_type": "code",
   "execution_count": 37,
   "metadata": {},
   "outputs": [
    {
     "name": "stdout",
     "output_type": "stream",
     "text": [
      "Median: hello\n"
     ]
    }
   ],
   "source": [
    "# list of string \n",
    "\n",
    "list = ('Geeks', 'Geek', 'is', 'is', 'hello', 'hello', 'Geeks', 'im','p')\n",
    "\n",
    "print(\"Median: %s\" %(median(list)))\n"
   ]
  },
  {
   "cell_type": "code",
   "execution_count": 44,
   "metadata": {},
   "outputs": [
    {
     "name": "stdout",
     "output_type": "stream",
     "text": [
      "Standard Deviation: 3.0276503540974917\n"
     ]
    }
   ],
   "source": [
    "from statistics import stdev\n",
    "\n",
    "tuple = (1, 2, 3, 4, 5, 6, 7, 8, 9, 10)\n",
    "\n",
    "print(\"Standard Deviation: %s\" %(stdev(tuple)))"
   ]
  },
  {
   "cell_type": "code",
   "execution_count": 45,
   "metadata": {},
   "outputs": [
    {
     "name": "stdout",
     "output_type": "stream",
     "text": [
      "Standard Deviation: 9.166666666666666\n"
     ]
    }
   ],
   "source": [
    "from statistics import variance\n",
    "\n",
    "tuple = (1, 2, 3, 4, 5, 6, 7, 8, 9, 10)\n",
    "\n",
    "print(\"Standard Deviation: %s\" %(variance(tuple)))"
   ]
  }
 ],
 "metadata": {
  "kernelspec": {
   "display_name": "Python 3",
   "language": "python",
   "name": "python3"
  },
  "language_info": {
   "codemirror_mode": {
    "name": "ipython",
    "version": 3
   },
   "file_extension": ".py",
   "mimetype": "text/x-python",
   "name": "python",
   "nbconvert_exporter": "python",
   "pygments_lexer": "ipython3",
   "version": "3.10.10"
  },
  "orig_nbformat": 4
 },
 "nbformat": 4,
 "nbformat_minor": 2
}
