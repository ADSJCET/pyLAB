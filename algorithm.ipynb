{
 "cells": [
  {
   "cell_type": "code",
   "execution_count": 1,
   "id": "9bc37ab3",
   "metadata": {},
   "outputs": [
    {
     "name": "stdout",
     "output_type": "stream",
     "text": [
      "Enter a: 10\n",
      "Enter b: 20\n",
      "Enter c: 30\n",
      "30\n"
     ]
    }
   ],
   "source": [
    "def maximun (a,b,c):\n",
    "    list = [a,b,c]\n",
    "    return max(list)\n",
    "\n",
    "a = int(input(\"Enter a: \"))\n",
    "b = int( input(\"Enter b: \"))\n",
    "c = int( input(\"Enter c: \"))\n",
    "\n",
    "print(maximun(a,b,c))"
   ]
  },
  {
   "cell_type": "code",
   "execution_count": 1,
   "id": "23acc32f",
   "metadata": {},
   "outputs": [
    {
     "name": "stdout",
     "output_type": "stream",
     "text": [
      "10\n",
      "20\n",
      "30\n",
      "40\n",
      "50\n",
      "60\n",
      "70\n",
      "80\n",
      "90\n",
      "100\n"
     ]
    }
   ],
   "source": [
    "n = int(input(\"enter n \"))\n",
    "\n",
    "for i in range(1,11):\n",
    "    print(i*n)"
   ]
  },
  {
   "cell_type": "code",
   "execution_count": 13,
   "id": "e5ab2a7b",
   "metadata": {},
   "outputs": [
    {
     "name": "stdout",
     "output_type": "stream",
     "text": [
      "QWERTYFGHJKL\n"
     ]
    }
   ],
   "source": [
    "# replace a word in a string\n",
    "\n",
    "def replace_word(string,word,newWord):\n",
    "    return string.replace(word,newWord)\n",
    "\n",
    "string = \"ASDFGHJKL\"\n",
    "word = \"ASD\"\n",
    "newWord = \"QWERTY\"\n",
    "\n",
    "print(replace_word(string,word,newWord))\n"
   ]
  },
  {
   "cell_type": "code",
   "execution_count": 14,
   "id": "2f1ee7b6",
   "metadata": {},
   "outputs": [
    {
     "name": "stdout",
     "output_type": "stream",
     "text": [
      "aAAAAAAAAAAAAAB\n"
     ]
    }
   ],
   "source": [
    "# replace the first word in a string\n",
    "\n",
    "def replace_word(string,word,newWord):\n",
    "    return string.replace(word,newWord,1)\n",
    "\n",
    "string = \"AAAAAAAAAAAAAAB\"\n",
    "word = \"A\"\n",
    "newWord = \"a\"\n",
    "\n",
    "print(replace_word(string,word,newWord))\n"
   ]
  },
  {
   "cell_type": "code",
   "execution_count": 17,
   "id": "34074289",
   "metadata": {},
   "outputs": [
    {
     "name": "stdout",
     "output_type": "stream",
     "text": [
      "1 2 3\n",
      "1 3 2\n",
      "2 1 3\n",
      "2 3 1\n",
      "3 1 2\n",
      "3 2 1\n"
     ]
    }
   ],
   "source": [
    "# combination of three digits\n",
    "\n",
    "list = [1,2,3]\n",
    "\n",
    "for i in list:\n",
    "    for j in list:\n",
    "        for k in list:\n",
    "            if i != j and j != k and i != k:\n",
    "                print(i,j,k)"
   ]
  },
  {
   "cell_type": "code",
   "execution_count": null,
   "id": "9be35e31",
   "metadata": {},
   "outputs": [],
   "source": [
    "# simple email validation\n",
    "\n",
    "def emailValidation(email):\n",
    "    if \"@\" in email and \".\" in email:\n",
    "        return True\n",
    "    else:\n",
    "        return False"
   ]
  },
  {
   "cell_type": "code",
   "execution_count": 21,
   "id": "0419a8b9",
   "metadata": {},
   "outputs": [
    {
     "name": "stdout",
     "output_type": "stream",
     "text": [
      "True\n",
      "True\n"
     ]
    }
   ],
   "source": [
    "# advanced email validation\n",
    "\n",
    "import re\n",
    "\n",
    "def emailValidation(email):\n",
    "    if re.search(r\"[@.]\",email):\n",
    "        return True\n",
    "    else:\n",
    "        return False\n",
    "    \n",
    "regex = r'\\b[A-Za-z0-9._%+-]+@[A-Za-z0-9.-]+\\.[A-Za-z]{2,}\\b'\n",
    "def emailValidationAdvaced(email):\n",
    "    if re.search(regex,email):\n",
    "        return True\n",
    "    else:\n",
    "        return False\n",
    "    \n",
    "email = input(\"Enter email: \")\n",
    "print(emailValidation(email))\n",
    "print(emailValidationAdvaced(email))\n"
   ]
  },
  {
   "cell_type": "code",
   "execution_count": null,
   "id": "149ff0ab",
   "metadata": {},
   "outputs": [],
   "source": [
    "# regex for valid password in python\n",
    "\n",
    "# 1. at least 1 letter between [a-z]\n",
    "# 2. at least 1 number between [0-9]\n",
    "# 3. at least 1 letter between [A-Z]\n",
    "# 4. at least 1 character from [$#@]\n",
    "# 5. minimum length 6 characters\n",
    "# 6. maximum length 16 characters\n",
    "\n",
    "import re\n",
    "\n",
    "regex = r'^(?=.*[a-z])(?=.*[A-Z])(?=.*\\d)(?=.*[$#@])[A-Za-z\\d$#@]{6,16}$'\n",
    "\n",
    "def passwordCheck(password):\n",
    "    if re.search(regex,password\n",
    ",):\n",
    "        return True\n",
    "    else:\n",
    "        return False"
   ]
  },
  {
   "cell_type": "code",
   "execution_count": null,
   "id": "6aa2f116",
   "metadata": {},
   "outputs": [],
   "source": [
    "# try and except\n",
    "\n",
    "try:\n",
    "    a = int(input(\"Enter a: \"))\n",
    "    b = int(input(\"Enter b: \"))\n",
    "    print(a/b)\n",
    "except:\n",
    "    print()\n"
   ]
  },
  {
   "cell_type": "code",
   "execution_count": 24,
   "id": "fbce17cb",
   "metadata": {},
   "outputs": [
    {
     "ename": "ModuleNotFoundError",
     "evalue": "No module named 'email_validator'",
     "output_type": "error",
     "traceback": [
      "\u001b[1;31m---------------------------------------------------------------------------\u001b[0m",
      "\u001b[1;31mModuleNotFoundError\u001b[0m                       Traceback (most recent call last)",
      "Cell \u001b[1;32mIn[24], line 1\u001b[0m\n\u001b[1;32m----> 1\u001b[0m \u001b[39mfrom\u001b[39;00m \u001b[39memail_validator\u001b[39;00m \u001b[39mimport\u001b[39;00m validate_email, EmailNotValidError\n\u001b[0;32m      3\u001b[0m \u001b[39mdef\u001b[39;00m \u001b[39memailValidation\u001b[39m(email):\n\u001b[0;32m      4\u001b[0m     \u001b[39mtry\u001b[39;00m:\n",
      "\u001b[1;31mModuleNotFoundError\u001b[0m: No module named 'email_validator'"
     ]
    }
   ],
   "source": [
    "from email_validator import validate_email, EmailNotValidError\n",
    "\n",
    "def emailValidation(email):\n",
    "    try:\n",
    "        valid = validate_email(email)\n",
    "        email = valid.email\n",
    "        return True\n",
    "    except EmailNotValidError as e:\n",
    "        print(e)\n",
    "        return False\n",
    "    \n",
    "email = input(\"Enter email: \")"
   ]
  },
  {
   "cell_type": "code",
   "execution_count": 26,
   "id": "888b4088",
   "metadata": {},
   "outputs": [
    {
     "name": "stdout",
     "output_type": "stream",
     "text": [
      "Requirement already satisfied: email_validator in c:\\users\\rajat\\appdata\\local\\packages\\pythonsoftwarefoundation.python.3.10_qbz5n2kfra8p0\\localcache\\local-packages\\python310\\site-packages (1.3.1)\n",
      "Requirement already satisfied: idna>=2.0.0 in c:\\users\\rajat\\appdata\\local\\packages\\pythonsoftwarefoundation.python.3.10_qbz5n2kfra8p0\\localcache\\local-packages\\python310\\site-packages (from email_validator) (3.4)\n",
      "Requirement already satisfied: dnspython>=1.15.0 in c:\\users\\rajat\\appdata\\local\\packages\\pythonsoftwarefoundation.python.3.10_qbz5n2kfra8p0\\localcache\\local-packages\\python310\\site-packages (from email_validator) (2.3.0)\n"
     ]
    }
   ],
   "source": [
    "!pip install email_validator\n",
    "\n",
    "#this is how we install a package"
   ]
  },
  {
   "cell_type": "code",
   "execution_count": 27,
   "id": "1d5618ec",
   "metadata": {},
   "outputs": [
    {
     "name": "stdout",
     "output_type": "stream",
     "text": [
      "Requirement already satisfied: numpy in c:\\users\\rajat\\appdata\\local\\packages\\pythonsoftwarefoundation.python.3.10_qbz5n2kfra8p0\\localcache\\local-packages\\python310\\site-packages (1.24.2)\n"
     ]
    }
   ],
   "source": [
    "!pip install numpy\n",
    "\n",
    "# use this instead of hard coding the algorithms"
   ]
  },
  {
   "cell_type": "code",
   "execution_count": 29,
   "id": "38789d65",
   "metadata": {},
   "outputs": [
    {
     "name": "stdout",
     "output_type": "stream",
     "text": [
      "[[ 30  36  42]\n",
      " [ 66  81  96]\n",
      " [102 126 150]]\n"
     ]
    }
   ],
   "source": [
    "import numpy as np\n",
    "\n",
    "Matrix1 = np.array([[1,2,3],\n",
    "           [4,5,6],\n",
    "           [7,8,9]])\n",
    "\n",
    "Matrix2 = np.array([[1,2,3],\n",
    "           [4,5,6],\n",
    "           [7,8,9]])\n",
    "\n",
    "result = np.array([[0,0,0],\n",
    "          [0,0,0],\n",
    "          [0,0,0]])\n",
    "\n",
    "# use numpy to do matrix multiplication\n",
    "\n",
    "result = np.dot(Matrix1,Matrix2)\n",
    "print(result)\n",
    "\n",
    "\n",
    "\n"
   ]
  },
  {
   "cell_type": "code",
   "execution_count": 31,
   "id": "5614bc66",
   "metadata": {},
   "outputs": [
    {
     "name": "stdout",
     "output_type": "stream",
     "text": [
      "[[2, 4, 6], [8, 10, 12], [14, 16, 18]]\n"
     ]
    }
   ],
   "source": [
    "x = [[1,2,3],\n",
    "           [4,5,6],\n",
    "           [7,8,9]]\n",
    "\n",
    "y = [[1,2,3],\n",
    "           [4,5,6],\n",
    "           [7,8,9]]\n",
    "\n",
    "result = [[0,0,0],\n",
    "            [0,0,0],\n",
    "            [0,0,0]]\n",
    "\n",
    "\n",
    "# iterate through rows\n",
    "for i in range(len(x)):\n",
    "    # iterate through columns\n",
    "    for j in range(len(x[0])):\n",
    "         result[i][j] = x[i][j] + y[i][j]\n",
    "\n",
    "\n",
    "print(result)\n",
    "\n",
    "# for r in result:\n",
    "#     print(r)\n",
    "\n"
   ]
  }
 ],
 "metadata": {
  "kernelspec": {
   "display_name": "Python 3 (ipykernel)",
   "language": "python",
   "name": "python3"
  },
  "language_info": {
   "codemirror_mode": {
    "name": "ipython",
    "version": 3
   },
   "file_extension": ".py",
   "mimetype": "text/x-python",
   "name": "python",
   "nbconvert_exporter": "python",
   "pygments_lexer": "ipython3",
   "version": "3.10.10"
  }
 },
 "nbformat": 4,
 "nbformat_minor": 5
}
